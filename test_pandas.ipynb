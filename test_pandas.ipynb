{
 "cells": [
  {
   "cell_type": "code",
   "execution_count": 1,
   "metadata": {},
   "outputs": [
    {
     "data": {
      "text/plain": [
       "'/home/aniketh/python_test/test-vnenv'"
      ]
     },
     "execution_count": 1,
     "metadata": {},
     "output_type": "execute_result"
    }
   ],
   "source": [
    "import os\n",
    "from sqlalchemy import create_engine\n",
    "from sqlalchemy.exc import SQLAlchemyError\n",
    "import pandas as pd\n",
    "import pyodbc\n",
    "# import py\n",
    "os.getcwd()"
   ]
  },
  {
   "cell_type": "code",
   "execution_count": 2,
   "metadata": {},
   "outputs": [
    {
     "name": "stdout",
     "output_type": "stream",
     "text": [
      "Connection successful (162,)\n"
     ]
    }
   ],
   "source": [
    "import pymssql\n",
    "\n",
    "try:\n",
    "    # Use 'server=IP:PORT' format\n",
    "    connection = pymssql.connect(\n",
    "        server='10.1.80.20',  # Use only the IP, not the port here\n",
    "        # port=58962,  # Pass the port separately\n",
    "        user='airflow_testODS',\n",
    "        password='Simple1994#',\n",
    "        database='test_ODS'\n",
    "    )\n",
    "\n",
    "    cursor = connection.cursor()\n",
    "    cursor.execute(\"SELECT count(*) from test_ODS.Files.PO_Peru;\")\n",
    "    row = cursor.fetchone()\n",
    "    \n",
    "    if row:\n",
    "        print(\"Connection successful\", row)\n",
    "\n",
    "except Exception as e:\n",
    "    print(f\"Error: {e}\")\n",
    "\n",
    "finally:\n",
    "    connection.close() if 'connection' in locals() else None\n"
   ]
  },
  {
   "cell_type": "code",
   "execution_count": 6,
   "metadata": {},
   "outputs": [
    {
     "name": "stdout",
     "output_type": "stream",
     "text": [
      "Connection successful. Data loaded into DataFrame.\n"
     ]
    },
    {
     "name": "stderr",
     "output_type": "stream",
     "text": [
      "/tmp/ipykernel_28845/2838966815.py:17: UserWarning: pandas only supports SQLAlchemy connectable (engine/connection) or database string URI or sqlite3 DBAPI2 connection. Other DBAPI2 objects are not tested. Please consider using SQLAlchemy.\n",
      "  dfsql = pd.read_sql(query, connection)\n"
     ]
    }
   ],
   "source": [
    "import pymssql\n",
    "import pandas as pd\n",
    "\n",
    "try:\n",
    "    # Connect to the database using pymssql\n",
    "    connection = pymssql.connect(\n",
    "        server='10.1.80.20',  # Use only the IP, not the port here\n",
    "        user='airflow_testODS',\n",
    "        password='Simple1994#',\n",
    "        database='test_ODS'\n",
    "    )\n",
    "\n",
    "    # SQL query to execute\n",
    "    query = \"SELECT * FROM test_ODS.Files.PO_Peru;\"\n",
    "\n",
    "    # Load the result directly into a DataFrame\n",
    "    dfsql = pd.read_sql(query, connection)\n",
    "    \n",
    "    # Display the first few rows of the DataFrame\n",
    "    print(\"Connection successful. Data loaded into DataFrame.\")\n",
    "    dfsql.head()  # Display the first few rows for inspection\n",
    "\n",
    "except Exception as e:\n",
    "    print(f\"Error: {e}\")\n",
    "\n",
    "finally:\n",
    "    connection.close() if 'connection' in locals() else None\n"
   ]
  },
  {
   "cell_type": "code",
   "execution_count": 7,
   "metadata": {},
   "outputs": [
    {
     "data": {
      "text/html": [
       "<div>\n",
       "<style scoped>\n",
       "    .dataframe tbody tr th:only-of-type {\n",
       "        vertical-align: middle;\n",
       "    }\n",
       "\n",
       "    .dataframe tbody tr th {\n",
       "        vertical-align: top;\n",
       "    }\n",
       "\n",
       "    .dataframe thead th {\n",
       "        text-align: right;\n",
       "    }\n",
       "</style>\n",
       "<table border=\"1\" class=\"dataframe\">\n",
       "  <thead>\n",
       "    <tr style=\"text-align: right;\">\n",
       "      <th></th>\n",
       "      <th>LocalPartNumber</th>\n",
       "      <th>SupplierPartNumber</th>\n",
       "      <th>PurchasePriceUnits</th>\n",
       "      <th>SupplierCode</th>\n",
       "      <th>SupplierName</th>\n",
       "      <th>LocationCode</th>\n",
       "      <th>PurchaseOrderID</th>\n",
       "      <th>PurchaseLineNumber</th>\n",
       "      <th>UnitOfMeasureOrdered</th>\n",
       "      <th>PurchaseOrderDate</th>\n",
       "      <th>CurrencyCode</th>\n",
       "      <th>QtyOrdered</th>\n",
       "      <th>LineAmountOrdered</th>\n",
       "      <th>UnitPrice</th>\n",
       "      <th>DataAreaID</th>\n",
       "      <th>ProductDescription</th>\n",
       "      <th>Source</th>\n",
       "      <th>InsertDateTime</th>\n",
       "      <th>ProductGroup</th>\n",
       "    </tr>\n",
       "  </thead>\n",
       "  <tbody>\n",
       "    <tr>\n",
       "      <th>0</th>\n",
       "      <td>300400003</td>\n",
       "      <td>H01038012M0C9</td>\n",
       "      <td>2.68</td>\n",
       "      <td>0000017PI</td>\n",
       "      <td>MANULI HYDRAULICS (SUZHOU) CO.</td>\n",
       "      <td>CHINA</td>\n",
       "      <td>TH24-038</td>\n",
       "      <td>1.0</td>\n",
       "      <td>Mt</td>\n",
       "      <td>2024-08-01</td>\n",
       "      <td>USD</td>\n",
       "      <td>2400.0</td>\n",
       "      <td>6432.0</td>\n",
       "      <td>2.680</td>\n",
       "      <td>PERU</td>\n",
       "      <td>ROCKMASTER/2SN DN 12</td>\n",
       "      <td>EXCEL</td>\n",
       "      <td>2024-09-11 18:39:20.517</td>\n",
       "      <td>Hydraulic Hoses</td>\n",
       "    </tr>\n",
       "    <tr>\n",
       "      <th>1</th>\n",
       "      <td>300400006</td>\n",
       "      <td>H01038025M0C9</td>\n",
       "      <td>4.22</td>\n",
       "      <td>0000017PI</td>\n",
       "      <td>MANULI HYDRAULICS (SUZHOU) CO.</td>\n",
       "      <td>CHINA</td>\n",
       "      <td>TH24-038</td>\n",
       "      <td>2.0</td>\n",
       "      <td>Mt</td>\n",
       "      <td>2024-08-01</td>\n",
       "      <td>USD</td>\n",
       "      <td>280.0</td>\n",
       "      <td>1181.6</td>\n",
       "      <td>4.220</td>\n",
       "      <td>PERU</td>\n",
       "      <td>ROCKMASTER/2SN DN 25</td>\n",
       "      <td>EXCEL</td>\n",
       "      <td>2024-09-11 18:39:20.520</td>\n",
       "      <td>Hydraulic Hoses</td>\n",
       "    </tr>\n",
       "    <tr>\n",
       "      <th>2</th>\n",
       "      <td>300600002</td>\n",
       "      <td>H10031012M0C9</td>\n",
       "      <td>5.37</td>\n",
       "      <td>0000017PI</td>\n",
       "      <td>MANULI HYDRAULICS (SUZHOU) CO.</td>\n",
       "      <td>CHINA</td>\n",
       "      <td>TH24-038</td>\n",
       "      <td>3.0</td>\n",
       "      <td>Mt</td>\n",
       "      <td>2024-08-01</td>\n",
       "      <td>USD</td>\n",
       "      <td>450.0</td>\n",
       "      <td>2416.5</td>\n",
       "      <td>5.370</td>\n",
       "      <td>PERU</td>\n",
       "      <td>ROCKMASTER/12 DN 12</td>\n",
       "      <td>EXCEL</td>\n",
       "      <td>2024-09-11 18:39:20.520</td>\n",
       "      <td>Hydraulic Hoses</td>\n",
       "    </tr>\n",
       "    <tr>\n",
       "      <th>3</th>\n",
       "      <td>300050001</td>\n",
       "      <td>H10031016M0C9</td>\n",
       "      <td>5.98</td>\n",
       "      <td>0000017PI</td>\n",
       "      <td>MANULI HYDRAULICS (SUZHOU) CO.</td>\n",
       "      <td>CHINA</td>\n",
       "      <td>TH24-038</td>\n",
       "      <td>4.0</td>\n",
       "      <td>Mt</td>\n",
       "      <td>2024-08-01</td>\n",
       "      <td>USD</td>\n",
       "      <td>600.0</td>\n",
       "      <td>3588.0</td>\n",
       "      <td>5.980</td>\n",
       "      <td>PERU</td>\n",
       "      <td>ROCKMASTER/12 DN 16</td>\n",
       "      <td>EXCEL</td>\n",
       "      <td>2024-09-11 18:39:20.523</td>\n",
       "      <td>Hydraulic Hoses</td>\n",
       "    </tr>\n",
       "    <tr>\n",
       "      <th>4</th>\n",
       "      <td>300050001</td>\n",
       "      <td>H09073006BC99</td>\n",
       "      <td>1.332</td>\n",
       "      <td>0000017PI</td>\n",
       "      <td>MANULI HYDRAULICS (SUZHOU) CO.</td>\n",
       "      <td>CHINA</td>\n",
       "      <td>TH24-039</td>\n",
       "      <td>1.0</td>\n",
       "      <td>Mt</td>\n",
       "      <td>2024-08-16</td>\n",
       "      <td>USD</td>\n",
       "      <td>150.0</td>\n",
       "      <td>199.8</td>\n",
       "      <td>1.332</td>\n",
       "      <td>PERU</td>\n",
       "      <td>MULTITEX DN 6</td>\n",
       "      <td>EXCEL</td>\n",
       "      <td>2024-09-11 18:39:20.527</td>\n",
       "      <td>Hydraulic Hoses</td>\n",
       "    </tr>\n",
       "  </tbody>\n",
       "</table>\n",
       "</div>"
      ],
      "text/plain": [
       "  LocalPartNumber SupplierPartNumber PurchasePriceUnits SupplierCode  \\\n",
       "0       300400003      H01038012M0C9               2.68    0000017PI   \n",
       "1       300400006      H01038025M0C9               4.22    0000017PI   \n",
       "2       300600002      H10031012M0C9               5.37    0000017PI   \n",
       "3       300050001      H10031016M0C9               5.98    0000017PI   \n",
       "4       300050001      H09073006BC99              1.332    0000017PI   \n",
       "\n",
       "                      SupplierName LocationCode PurchaseOrderID  \\\n",
       "0  MANULI HYDRAULICS (SUZHOU) CO.         CHINA        TH24-038   \n",
       "1  MANULI HYDRAULICS (SUZHOU) CO.         CHINA        TH24-038   \n",
       "2  MANULI HYDRAULICS (SUZHOU) CO.         CHINA        TH24-038   \n",
       "3  MANULI HYDRAULICS (SUZHOU) CO.         CHINA        TH24-038   \n",
       "4  MANULI HYDRAULICS (SUZHOU) CO.         CHINA        TH24-039   \n",
       "\n",
       "   PurchaseLineNumber UnitOfMeasureOrdered PurchaseOrderDate CurrencyCode  \\\n",
       "0                 1.0                   Mt        2024-08-01          USD   \n",
       "1                 2.0                   Mt        2024-08-01          USD   \n",
       "2                 3.0                   Mt        2024-08-01          USD   \n",
       "3                 4.0                   Mt        2024-08-01          USD   \n",
       "4                 1.0                   Mt        2024-08-16          USD   \n",
       "\n",
       "   QtyOrdered  LineAmountOrdered  UnitPrice DataAreaID    ProductDescription  \\\n",
       "0      2400.0             6432.0      2.680       PERU  ROCKMASTER/2SN DN 12   \n",
       "1       280.0             1181.6      4.220       PERU  ROCKMASTER/2SN DN 25   \n",
       "2       450.0             2416.5      5.370       PERU   ROCKMASTER/12 DN 12   \n",
       "3       600.0             3588.0      5.980       PERU  ROCKMASTER/12 DN 16    \n",
       "4       150.0              199.8      1.332       PERU         MULTITEX DN 6   \n",
       "\n",
       "  Source          InsertDateTime     ProductGroup  \n",
       "0  EXCEL 2024-09-11 18:39:20.517  Hydraulic Hoses  \n",
       "1  EXCEL 2024-09-11 18:39:20.520  Hydraulic Hoses  \n",
       "2  EXCEL 2024-09-11 18:39:20.520  Hydraulic Hoses  \n",
       "3  EXCEL 2024-09-11 18:39:20.523  Hydraulic Hoses  \n",
       "4  EXCEL 2024-09-11 18:39:20.527  Hydraulic Hoses  "
      ]
     },
     "execution_count": 7,
     "metadata": {},
     "output_type": "execute_result"
    }
   ],
   "source": [
    "dfsql.head()"
   ]
  },
  {
   "cell_type": "code",
   "execution_count": 24,
   "metadata": {},
   "outputs": [
    {
     "data": {
      "text/plain": [
       "True"
      ]
     },
     "execution_count": 24,
     "metadata": {},
     "output_type": "execute_result"
    }
   ],
   "source": [
    "excel_file_path = '/mnt/z/DWH_IMPORT/test_air_10.xlsx'\n",
    "dfexcel = pd.read_excel(excel_file_path)\n",
    "\n",
    "dfexcel.columns.isin(dfsql.columns).size == dfsql.shape[1]-2\n",
    "\n"
   ]
  }
 ],
 "metadata": {
  "kernelspec": {
   "display_name": "Python 3 (ipykernel)",
   "language": "python",
   "name": "python3"
  },
  "language_info": {
   "codemirror_mode": {
    "name": "ipython",
    "version": 3
   },
   "file_extension": ".py",
   "mimetype": "text/x-python",
   "name": "python",
   "nbconvert_exporter": "python",
   "pygments_lexer": "ipython3",
   "version": "3.11.10"
  }
 },
 "nbformat": 4,
 "nbformat_minor": 2
}
